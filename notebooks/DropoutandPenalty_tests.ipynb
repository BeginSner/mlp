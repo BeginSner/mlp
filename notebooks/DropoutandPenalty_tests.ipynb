{
 "cells": [
  {
   "cell_type": "code",
   "execution_count": 1,
   "metadata": {
    "scrolled": true
   },
   "outputs": [
    {
     "ename": "ValueError",
     "evalue": "operands could not be broadcast together with shapes (50,3,64,64) (12288,) ",
     "output_type": "error",
     "traceback": [
      "\u001b[1;31m---------------------------------------------------------------------------\u001b[0m",
      "\u001b[1;31mValueError\u001b[0m                                Traceback (most recent call last)",
      "\u001b[1;32mc:\\Users\\mrj\\Desktop\\courses\\mlp\\mlpractical\\notebooks\\DropoutandPenalty_tests.ipynb Cell 1\u001b[0m in \u001b[0;36m<cell line: 5>\u001b[1;34m()\u001b[0m\n\u001b[0;32m      <a href='vscode-notebook-cell:/c%3A/Users/mrj/Desktop/courses/mlp/mlpractical/notebooks/DropoutandPenalty_tests.ipynb#W0sZmlsZQ%3D%3D?line=0'>1</a>\u001b[0m \u001b[39mfrom\u001b[39;00m \u001b[39mmlp\u001b[39;00m\u001b[39m.\u001b[39;00m\u001b[39mtest_methods\u001b[39;00m \u001b[39mimport\u001b[39;00m test_dropout_layer\n\u001b[0;32m      <a href='vscode-notebook-cell:/c%3A/Users/mrj/Desktop/courses/mlp/mlpractical/notebooks/DropoutandPenalty_tests.ipynb#W0sZmlsZQ%3D%3D?line=1'>2</a>\u001b[0m \u001b[39mimport\u001b[39;00m \u001b[39mnumpy\u001b[39;00m \u001b[39mas\u001b[39;00m \u001b[39mnp\u001b[39;00m\n\u001b[0;32m      <a href='vscode-notebook-cell:/c%3A/Users/mrj/Desktop/courses/mlp/mlpractical/notebooks/DropoutandPenalty_tests.ipynb#W0sZmlsZQ%3D%3D?line=3'>4</a>\u001b[0m fprop_test, fprop_output, fprop_correct, \\\n\u001b[1;32m----> <a href='vscode-notebook-cell:/c%3A/Users/mrj/Desktop/courses/mlp/mlpractical/notebooks/DropoutandPenalty_tests.ipynb#W0sZmlsZQ%3D%3D?line=4'>5</a>\u001b[0m bprop_test, bprop_output, bprop_correct \u001b[39m=\u001b[39m test_dropout_layer()\n\u001b[0;32m      <a href='vscode-notebook-cell:/c%3A/Users/mrj/Desktop/courses/mlp/mlpractical/notebooks/DropoutandPenalty_tests.ipynb#W0sZmlsZQ%3D%3D?line=6'>7</a>\u001b[0m \u001b[39massert\u001b[39;00m fprop_test \u001b[39m==\u001b[39m \u001b[39m1.0\u001b[39m, (\n\u001b[0;32m      <a href='vscode-notebook-cell:/c%3A/Users/mrj/Desktop/courses/mlp/mlpractical/notebooks/DropoutandPenalty_tests.ipynb#W0sZmlsZQ%3D%3D?line=7'>8</a>\u001b[0m \u001b[39m'\u001b[39m\u001b[39mThe dropout layer fprop functionality test failed\u001b[39m\u001b[39m'\u001b[39m\n\u001b[0;32m      <a href='vscode-notebook-cell:/c%3A/Users/mrj/Desktop/courses/mlp/mlpractical/notebooks/DropoutandPenalty_tests.ipynb#W0sZmlsZQ%3D%3D?line=8'>9</a>\u001b[0m \u001b[39m'\u001b[39m\u001b[39mCorrect output is \u001b[39m\u001b[39m\\n\u001b[39;00m\u001b[39m\\n\u001b[39;00m\u001b[39m{0}\u001b[39;00m\u001b[39m\\n\u001b[39;00m\u001b[39m\\n\u001b[39;00m\u001b[39m but returned output is \u001b[39m\u001b[39m\\n\u001b[39;00m\u001b[39m\\n\u001b[39;00m\u001b[39m{1}\u001b[39;00m\u001b[39m\\n\u001b[39;00m\u001b[39m\\n\u001b[39;00m\u001b[39m difference is \u001b[39m\u001b[39m\\n\u001b[39;00m\u001b[39m\\n\u001b[39;00m\u001b[39m{2}\u001b[39;00m\u001b[39m'\u001b[39m\n\u001b[0;32m     <a href='vscode-notebook-cell:/c%3A/Users/mrj/Desktop/courses/mlp/mlpractical/notebooks/DropoutandPenalty_tests.ipynb#W0sZmlsZQ%3D%3D?line=9'>10</a>\u001b[0m \u001b[39m.\u001b[39mformat(fprop_correct, fprop_output, fprop_output\u001b[39m-\u001b[39mfprop_correct)\n\u001b[0;32m     <a href='vscode-notebook-cell:/c%3A/Users/mrj/Desktop/courses/mlp/mlpractical/notebooks/DropoutandPenalty_tests.ipynb#W0sZmlsZQ%3D%3D?line=10'>11</a>\u001b[0m )\n\u001b[0;32m     <a href='vscode-notebook-cell:/c%3A/Users/mrj/Desktop/courses/mlp/mlpractical/notebooks/DropoutandPenalty_tests.ipynb#W0sZmlsZQ%3D%3D?line=12'>13</a>\u001b[0m \u001b[39mprint\u001b[39m(\u001b[39m\"\u001b[39m\u001b[39mDropout Layer Fprop Functionality Test Passed\u001b[39m\u001b[39m\"\u001b[39m)\n",
      "File \u001b[1;32mc:\\users\\mrj\\desktop\\courses\\mlp\\mlpractical\\mlp\\test_methods.py:23\u001b[0m, in \u001b[0;36mtest_dropout_layer\u001b[1;34m()\u001b[0m\n\u001b[0;32m     19\u001b[0m     layer \u001b[39m=\u001b[39m DropoutLayer(rng\u001b[39m=\u001b[39mrng)\n\u001b[0;32m     21\u001b[0m     out \u001b[39m=\u001b[39m layer\u001b[39m.\u001b[39mfprop(x)\n\u001b[1;32m---> 23\u001b[0m     grads \u001b[39m=\u001b[39m layer\u001b[39m.\u001b[39;49mbprop(inputs\u001b[39m=\u001b[39;49mx, outputs\u001b[39m=\u001b[39;49mout, grads_wrt_outputs\u001b[39m=\u001b[39;49mnp\u001b[39m.\u001b[39;49mones(x\u001b[39m.\u001b[39;49mshape))\n\u001b[0;32m     25\u001b[0m \u001b[39m#     correct_outputs = correct_outputs['dropout']\u001b[39;00m\n\u001b[0;32m     27\u001b[0m     fprop_test \u001b[39m=\u001b[39m np\u001b[39m.\u001b[39mallclose(correct_outputs[\u001b[39m'\u001b[39m\u001b[39mDropoutLayer_fprop\u001b[39m\u001b[39m'\u001b[39m], out)\n",
      "File \u001b[1;32mc:\\users\\mrj\\desktop\\courses\\mlp\\mlpractical\\mlp\\layers.py:690\u001b[0m, in \u001b[0;36mDropoutLayer.bprop\u001b[1;34m(self, inputs, outputs, grads_wrt_outputs)\u001b[0m\n\u001b[0;32m    672\u001b[0m \u001b[39mdef\u001b[39;00m \u001b[39mbprop\u001b[39m(\u001b[39mself\u001b[39m, inputs, outputs, grads_wrt_outputs):\n\u001b[0;32m    673\u001b[0m     \u001b[39m\"\"\"Back propagates gradients through a layer.\u001b[39;00m\n\u001b[0;32m    674\u001b[0m \n\u001b[0;32m    675\u001b[0m \u001b[39m    Given gradients with respect to the outputs of the layer calculates the\u001b[39;00m\n\u001b[1;32m   (...)\u001b[0m\n\u001b[0;32m    688\u001b[0m \u001b[39m        (batch_size, input_dim).\u001b[39;00m\n\u001b[0;32m    689\u001b[0m \u001b[39m    \"\"\"\u001b[39;00m\n\u001b[1;32m--> 690\u001b[0m     \u001b[39mreturn\u001b[39;00m outputs \u001b[39m*\u001b[39;49m \u001b[39mself\u001b[39;49m\u001b[39m.\u001b[39;49mmask\n",
      "\u001b[1;31mValueError\u001b[0m: operands could not be broadcast together with shapes (50,3,64,64) (12288,) "
     ]
    }
   ],
   "source": [
    "from mlp.test_methods import test_dropout_layer\n",
    "import numpy as np\n",
    "\n",
    "fprop_test, fprop_output, fprop_correct, \\\n",
    "bprop_test, bprop_output, bprop_correct = test_dropout_layer()\n",
    "\n",
    "assert fprop_test == 1.0, (\n",
    "'The dropout layer fprop functionality test failed'\n",
    "'Correct output is \\n\\n{0}\\n\\n but returned output is \\n\\n{1}\\n\\n difference is \\n\\n{2}'\n",
    ".format(fprop_correct, fprop_output, fprop_output-fprop_correct)\n",
    ")\n",
    "\n",
    "print(\"Dropout Layer Fprop Functionality Test Passed\")\n",
    "\n",
    "assert bprop_test == 1.0, (\n",
    "'The dropout layer bprop functionality test failed'\n",
    "'Correct output is \\n\\n{0}\\n\\n but returned output is \\n\\n{1}\\n\\n difference is \\n\\n{2}'\n",
    ".format(bprop_correct, bprop_output, bprop_output-bprop_correct)\n",
    ")\n",
    "\n",
    "print(\"Dropout Layer Bprop Test Passed\")"
   ]
  },
  {
   "cell_type": "code",
   "execution_count": null,
   "metadata": {},
   "outputs": [],
   "source": [
    "from mlp.test_methods import test_L1_Penalty\n",
    "\n",
    "\n",
    "call_test, call_output, call_correct, \\\n",
    "grad_test, grad_output, grad_correct = test_L1_Penalty()\n",
    "\n",
    "\n",
    "assert call_test == 1.0, (\n",
    "'The call function for L1 Penalty test failed'\n",
    "'Correct output is \\n\\n{0}\\n\\n but returned output is \\n\\n{1}\\n\\n difference is \\n\\n{2}'\n",
    ".format(call_correct, call_output, call_output-call_correct)\n",
    ")\n",
    "\n",
    "print(\"L1 Penalty Call Functionality Test Passed\")\n",
    "\n",
    "assert grad_test == 1.0, (\n",
    "'The grad function for L1 Penalty test failed'\n",
    "'Correct output is \\n\\n{0}\\n\\n but returned output is \\n\\n{1}\\n\\n difference is \\n\\n{2}'\n",
    ".format(grad_correct, grad_output, grad_output-grad_correct, grad_output/grad_correct)\n",
    ")\n",
    "\n",
    "\n",
    "\n",
    "print(\"L1 Penalty Grad Function Test Passed\")"
   ]
  },
  {
   "cell_type": "code",
   "execution_count": null,
   "metadata": {},
   "outputs": [],
   "source": [
    "from mlp.test_methods import test_L2_Penalty\n",
    "\n",
    "\n",
    "call_test, call_output, call_correct, \\\n",
    "grad_test, grad_output, grad_correct = test_L2_Penalty()\n",
    "\n",
    "\n",
    "assert call_test == 1.0, (\n",
    "'The call function for L2 Penalty test failed'\n",
    "'Correct output is \\n\\n{0}\\n\\n but returned output is \\n\\n{1}\\n\\n difference is \\n\\n{2}'\n",
    ".format(call_correct, call_output, call_output-call_correct)\n",
    ")\n",
    "\n",
    "print(\"L2 Penalty Call Functionality Test Passed\")\n",
    "\n",
    "assert grad_test == 1.0, (\n",
    "'The grad function for L2 Penalty test failed'\n",
    "'Correct output is \\n\\n{0}\\n\\n but returned output is \\n\\n{1}\\n\\n difference is \\n\\n{2}'\n",
    ".format(grad_correct, grad_output, grad_output-grad_correct, grad_output/grad_correct)\n",
    ")\n",
    "\n",
    "\n",
    "\n",
    "print(\"L2 Penalty Grad Function Test Passed\")"
   ]
  }
 ],
 "metadata": {
  "kernelspec": {
   "display_name": "Python 3.10.6 ('mlp')",
   "language": "python",
   "name": "python3"
  },
  "language_info": {
   "codemirror_mode": {
    "name": "ipython",
    "version": 3
   },
   "file_extension": ".py",
   "mimetype": "text/x-python",
   "name": "python",
   "nbconvert_exporter": "python",
   "pygments_lexer": "ipython3",
   "version": "3.10.6"
  },
  "vscode": {
   "interpreter": {
    "hash": "3d55046e558ce5e4ff3814b7a4d6628baa2ae6d21874c7819c73141b33368e87"
   }
  }
 },
 "nbformat": 4,
 "nbformat_minor": 1
}
