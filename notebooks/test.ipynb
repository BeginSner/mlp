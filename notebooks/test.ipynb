{
 "cells": [
  {
   "cell_type": "code",
   "execution_count": 1,
   "metadata": {},
   "outputs": [
    {
     "data": {
      "text/plain": [
       "{'acc': 1.0}"
      ]
     },
     "execution_count": 1,
     "metadata": {},
     "output_type": "execute_result"
    }
   ],
   "source": [
    "import numpy as np\n",
    "a = {'acc' : (lambda y, t: (y.argmax(-1)==t.argmax(-1)).mean())(np.array([1,2,3]),np.array([1,2,5]))}\n",
    "a\n"
   ]
  },
  {
   "cell_type": "code",
   "execution_count": 2,
   "metadata": {},
   "outputs": [
    {
     "data": {
      "text/plain": [
       "2"
      ]
     },
     "execution_count": 2,
     "metadata": {},
     "output_type": "execute_result"
    }
   ],
   "source": [
    "b = np.array([1,2,55,4,7,4,3])\n",
    "b.argmax()"
   ]
  },
  {
   "cell_type": "code",
   "execution_count": 3,
   "metadata": {},
   "outputs": [
    {
     "data": {
      "text/plain": [
       "0.0009"
      ]
     },
     "execution_count": 3,
     "metadata": {},
     "output_type": "execute_result"
    }
   ],
   "source": [
    "params = dict(\n",
    "learning_rate = 9e-4,\n",
    "num_epochs = 100,\n",
    "stats_interval = 1,\n",
    "input_dim = 784, \n",
    "output_dim = 47,\n",
    "hidden_dim = [32, 64, 128])\n",
    "params['learning_rate']"
   ]
  },
  {
   "cell_type": "code",
   "execution_count": 4,
   "metadata": {},
   "outputs": [
    {
     "name": "stdout",
     "output_type": "stream",
     "text": [
      "[[[[ 0  1]\n",
      "   [ 2  3]]\n",
      "\n",
      "  [[ 4  5]\n",
      "   [ 6  7]]\n",
      "\n",
      "  [[ 8  9]\n",
      "   [10 11]]]\n",
      "\n",
      "\n",
      " [[[12 13]\n",
      "   [14 15]]\n",
      "\n",
      "  [[16 17]\n",
      "   [18 19]]\n",
      "\n",
      "  [[20 21]\n",
      "   [22 23]]]\n",
      "\n",
      "\n",
      " [[[24 25]\n",
      "   [26 27]]\n",
      "\n",
      "  [[28 29]\n",
      "   [30 31]]\n",
      "\n",
      "  [[32 33]\n",
      "   [34 35]]]\n",
      "\n",
      "\n",
      " [[[36 37]\n",
      "   [38 39]]\n",
      "\n",
      "  [[40 41]\n",
      "   [42 43]]\n",
      "\n",
      "  [[44 45]\n",
      "   [46 47]]]]\n",
      "[[[1]]\n",
      "\n",
      " [[0]]\n",
      "\n",
      " [[0]]]\n"
     ]
    },
    {
     "data": {
      "text/plain": [
       "array([[[[ 0,  1],\n",
       "         [ 2,  3]],\n",
       "\n",
       "        [[ 0,  0],\n",
       "         [ 0,  0]],\n",
       "\n",
       "        [[ 0,  0],\n",
       "         [ 0,  0]]],\n",
       "\n",
       "\n",
       "       [[[12, 13],\n",
       "         [14, 15]],\n",
       "\n",
       "        [[ 0,  0],\n",
       "         [ 0,  0]],\n",
       "\n",
       "        [[ 0,  0],\n",
       "         [ 0,  0]]],\n",
       "\n",
       "\n",
       "       [[[24, 25],\n",
       "         [26, 27]],\n",
       "\n",
       "        [[ 0,  0],\n",
       "         [ 0,  0]],\n",
       "\n",
       "        [[ 0,  0],\n",
       "         [ 0,  0]]],\n",
       "\n",
       "\n",
       "       [[[36, 37],\n",
       "         [38, 39]],\n",
       "\n",
       "        [[ 0,  0],\n",
       "         [ 0,  0]],\n",
       "\n",
       "        [[ 0,  0],\n",
       "         [ 0,  0]]]])"
      ]
     },
     "execution_count": 4,
     "metadata": {},
     "output_type": "execute_result"
    }
   ],
   "source": [
    "import numpy as np\n",
    "input = np.arange(48).reshape(4,3,2,2)\n",
    "print(input)\n",
    "mask = ((np.random.rand(input.shape[1])>0.5)*1)[:,None,None]\n",
    "print(mask)\n",
    "input * mask\n"
   ]
  },
  {
   "cell_type": "code",
   "execution_count": 24,
   "metadata": {},
   "outputs": [
    {
     "data": {
      "text/plain": [
       "array([ -0.        ,  -0.        ,   8.02934585, -10.3134877 ,\n",
       "         1.6882652 ,  -0.        ,  -9.53079022,   0.        ,\n",
       "         1.20283255,   0.        ,   0.        ,  -0.07837749,\n",
       "        -0.        ,   0.        ,   0.61678661,   0.        ,\n",
       "        -0.        ,  -6.72262231,  -0.        ,  -0.        ,\n",
       "         0.61615918,  -3.07470604,  -0.        ,   0.85872071,\n",
       "         4.00965053,  -0.42424617,   6.81615667,  -0.09082071,\n",
       "        -5.15514679,   0.        ,  -0.        ,  -1.15213711,\n",
       "         0.        ,  10.08008968,  -0.        ,   6.788294  ,\n",
       "        -1.98825549,  -0.        ,  -1.59394607,  -0.        ,\n",
       "         0.        ,  -0.12335789,  -9.77000395,   0.52317061,\n",
       "         0.62916047, -11.6545745 ,   0.        ,  -0.        ,\n",
       "         0.        ,   3.93763343,   6.18839754,  -0.83638025,\n",
       "        -4.85869589,   3.54161168,   6.25257167,  -0.        ,\n",
       "         0.        ,  10.0515509 ,   1.40540161,   0.        ,\n",
       "         4.37313633,  -0.        ,   4.23127441,  -0.        ])"
      ]
     },
     "execution_count": 24,
     "metadata": {},
     "output_type": "execute_result"
    }
   ],
   "source": [
    "import os\n",
    "correct_outputs = np.load(os.path.join(os.environ['MLP_DATA_DIR'], 'regularization_debug_pack.npy'), allow_pickle=True).item()\n",
    "correct_outputs['DropoutLayer_fprop'][0][0][0]"
   ]
  },
  {
   "cell_type": "code",
   "execution_count": 1,
   "metadata": {},
   "outputs": [
    {
     "data": {
      "text/plain": [
       "6102"
      ]
     },
     "execution_count": 1,
     "metadata": {},
     "output_type": "execute_result"
    }
   ],
   "source": [
    "import numpy as np\n",
    "n, p = 1, 0.1\n",
    "rng = np.random.RandomState(92019)\n",
    "s = np.random.binomial(1, 0.5, (3,64,64))\n",
    "s.sum()"
   ]
  },
  {
   "cell_type": "code",
   "execution_count": 2,
   "metadata": {},
   "outputs": [
    {
     "data": {
      "text/plain": [
       "2447841.6697648065"
      ]
     },
     "execution_count": 2,
     "metadata": {},
     "output_type": "execute_result"
    }
   ],
   "source": [
    "import numpy as np\n",
    "rng = np.random.RandomState(92019)\n",
    "x = rng.normal(loc=0, scale=5.0, size=(50, 3, 64, 64))\n",
    "np.sum(np.abs(x))\n"
   ]
  },
  {
   "cell_type": "code",
   "execution_count": 3,
   "metadata": {},
   "outputs": [
    {
     "data": {
      "text/plain": [
       "(1, 3, 64, 64)"
      ]
     },
     "execution_count": 3,
     "metadata": {},
     "output_type": "execute_result"
    }
   ],
   "source": [
    "(1,)+x[0].shape\n",
    "    "
   ]
  },
  {
   "cell_type": "code",
   "execution_count": 15,
   "metadata": {},
   "outputs": [
    {
     "data": {
      "text/plain": [
       "array([80.7, 83. , 85.1, 85.4])"
      ]
     },
     "execution_count": 15,
     "metadata": {},
     "output_type": "execute_result"
    }
   ],
   "source": [
    "import numpy as np\n",
    "data_dropout = np.array([\n",
    "      [80.7, 0.549, 0.593],\n",
    "      [83.0, 0.442, 0.502],\n",
    "      [85.1, 0.329, 0.434],\n",
    "      [85.4, 0.244, 0.457]\n",
    "   ])\n",
    "data_L1 = np.array([\n",
    "    [79.5, 0.642, 0.658],\n",
    "    [77.1, 0.744, 0.764],\n",
    "    [2.41, 3.850, 3.850],\n",
    "    [2.20, 3.850, 3.850]\n",
    "])\n",
    "data_L2 = np.array([\n",
    "    [85.1, 0.306, 0.460],\n",
    "    [84.9, 0.334, 0.450],\n",
    "    [81.3, 0.586, 0.607],\n",
    "    [39.2, 2.258, 2.256]\n",
    "])\n",
    "data_result = [data_dropout, data_L1, data_L2]\n",
    "data_result[0][:,0]"
   ]
  }
 ],
 "metadata": {
  "kernelspec": {
   "display_name": "Python 3.10.6 ('mlp')",
   "language": "python",
   "name": "python3"
  },
  "language_info": {
   "codemirror_mode": {
    "name": "ipython",
    "version": 3
   },
   "file_extension": ".py",
   "mimetype": "text/x-python",
   "name": "python",
   "nbconvert_exporter": "python",
   "pygments_lexer": "ipython3",
   "version": "3.10.6"
  },
  "orig_nbformat": 4,
  "vscode": {
   "interpreter": {
    "hash": "3d55046e558ce5e4ff3814b7a4d6628baa2ae6d21874c7819c73141b33368e87"
   }
  }
 },
 "nbformat": 4,
 "nbformat_minor": 2
}
